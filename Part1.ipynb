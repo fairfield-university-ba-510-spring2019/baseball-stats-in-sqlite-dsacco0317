{
 "cells": [
  {
   "cell_type": "markdown",
   "metadata": {},
   "source": [
    "# Part 1: Baseball Stats Explorations\n",
    "__This primer illustrates the basics of SQLite usage in Jupyter__"
   ]
  },
  {
   "cell_type": "markdown",
   "metadata": {},
   "source": [
    "## Boilerplate Setup Code\n",
    "Run this to set up %sql and %%sql magics"
   ]
  },
  {
   "cell_type": "code",
   "execution_count": 3,
   "metadata": {},
   "outputs": [],
   "source": [
    "%load_ext sql"
   ]
  },
  {
   "cell_type": "markdown",
   "metadata": {},
   "source": [
    "## First, a note about Jupyter Magics\n",
    "Jupyter supports lots of languages, with Python and Markdown being the defaults. However, we can easily mix in code other languages using so-called *magic* extensions. By prepending foreign code with a few *magic* characters (sort of like an incantation) the code that follows is then run, with any outputs translated into Jupyter's native namespace (data structures). So, we can have Python code call R code which calls Bash code ..., all with just a little magic. \n",
    "\n",
    "Jupyter magics generally start with the `%` character. A bunch of them are [built into Jupyter](https://ipython.readthedocs.io/en/stable/interactive/magics.html) without any installation required. A few useful ones:\n",
    "- `%cd`, which changes the directory in which the code that follows is run\n",
    "- `%load_ext`, which we saw used above to load the %sql and %%sql magics\n",
    "- `%matplotlb`, which sets up the matplotlib library for interactive use\n",
    "- `%%bash`, which executes Bash commands just like in a Terminal tab\n",
    "- `%%html`, which renders HTML code for direct display in the notebook\n",
    "- `%%js`, which executes Javascript code\n",
    "\n",
    "You may have noticed that some magics start with `%` while others start with `%%`. \n",
    "- The ones with `%` are run \"inline\" so they can be mixed directly into other code. This way one could for example, have Python code that directly calls SQL code to pull data from a database (without having to set up SqlAlchemy). If the magic code returns an output value, then that value can be captured with a variable. The ony real draw-back is that inline magics have to be on a single line and can's have any line breaks.\n",
    "- The ones with `%%` are _cell magics_ that apply to a whole cell. Cell magics are always by themselves on the first line of a cell. The code on the lines below are then processed via the magic. If the cell returns a value then it is displayed immediately by Jupyter. However, if we want to capture that value in a variable then we have to use a special [kludge](https://en.wikipedia.org/wiki/Kludge) included in Jupyter for just this purpose. In Jupyter, the special variable `_` (yes, that's an underscore) always contains the output value of the most recently run cell. \n",
    "\n",
    "__Here we will be using `%sql` and `%%sql` magics to pull data from a SQLite database.__"
   ]
  },
  {
   "cell_type": "markdown",
   "metadata": {},
   "source": [
    "## Connecting to the Database\n",
    "The database we will be using is the `Lahman 2016` data repository that you may have already seen in other classes. We are using it as a sort of common data set that conencts the courses. The database includes [historical baseball data from 1871-2016](https://github.com/jknecht/baseball-archive-sqlite). \n",
    "\n",
    "The database tech used is SQLite, a very lightweight package that keeps all data in a single file (sort of like a document) that can be copied and even versioned in GitHub. This has lots of advantages for business analysts. Any time the analysts need data, they can _extract_ it from the DBMS server into a local SQLite database and then _transform_ it in SQLite (or Python or R) prior to analysis. They lose real-time data timeliness, but gain lots of control over way the data is organized.    \n",
    "\n",
    "In order to connect with any database we have to first provide a *connection string* that specifies:\n",
    "- what software 'bridge' software is needed\n",
    "- where to find the database \n",
    "- whatever user credentials are needed to access the data inside the database\n",
    "\n",
    "For a SQLite database, where there is no concept of user accounts or permissions, the connection string is very simple:\n",
    "```\n",
    "sqlite:///<path-to-file>\n",
    "```\n",
    "The bridge software is `sqlite` and the location of the database is given by `/<path-to-file>`. \n",
    "\n",
    "__The code below connects to the `lahman2016.sqlite` database in the same directory as this notebook.__"
   ]
  },
  {
   "cell_type": "code",
   "execution_count": 8,
   "metadata": {},
   "outputs": [
    {
     "data": {
      "text/plain": [
       "'Connected: @lahman2016.sqlite'"
      ]
     },
     "execution_count": 8,
     "metadata": {},
     "output_type": "execute_result"
    }
   ],
   "source": [
    "%sql sqlite:///lahman2016.sqlite"
   ]
  },
  {
   "cell_type": "markdown",
   "metadata": {},
   "source": [
    "## Using SQL to discover the database design\n",
    "This can be pretty confusing for SQL newbies. There are no SQL commands for listing all the tables in a database. Instead, we query one or more _metadata_ tables. In SQLite the metadata is in the `sqlite_master` table which describes every data definition object in the database.  Each object has the following fields:\n",
    "- `type` -- generally either 'table' or 'index'\n",
    "- `name` -- the object name (which is equal to tbl_name if the object is a table)\n",
    "- `tbl_name` -- the name of the table that the object describes\n",
    "- `rootpage` -- the precise location i the b-tree datastructure used to store the data (for SQLite internal use only)\n",
    "- `sql` -- the SQL DDL code needed to create the object "
   ]
  },
  {
   "cell_type": "code",
   "execution_count": 9,
   "metadata": {},
   "outputs": [
    {
     "name": "stdout",
     "output_type": "stream",
     "text": [
      " * sqlite:///lahman2016.sqlite\n",
      "Done.\n"
     ]
    },
    {
     "data": {
      "text/html": [
       "<table>\n",
       "    <tr>\n",
       "        <th>type</th>\n",
       "        <th>name</th>\n",
       "        <th>tbl_name</th>\n",
       "        <th>rootpage</th>\n",
       "        <th>sql</th>\n",
       "    </tr>\n",
       "    <tr>\n",
       "        <td>table</td>\n",
       "        <td>AllstarFull</td>\n",
       "        <td>AllstarFull</td>\n",
       "        <td>2</td>\n",
       "        <td>CREATE TABLE AllstarFull (<br>playerID TEXT,<br>yearID INTEGER,<br>gameNum INTEGER,<br>gameID TEXT,<br>teamID TEXT,<br>lgID TEXT,<br>GP INTEGER,<br>startingPos INTEGER<br>)</td>\n",
       "    </tr>\n",
       "    <tr>\n",
       "        <td>table</td>\n",
       "        <td>Appearances</td>\n",
       "        <td>Appearances</td>\n",
       "        <td>3</td>\n",
       "        <td>CREATE TABLE Appearances (<br>yearID INTEGER,<br>teamID TEXT,<br>lgID TEXT,<br>playerID TEXT,<br>G_all INTEGER,<br>GS INTEGER,<br>G_batting INTEGER,<br>G_defense INTEGER,<br>G_p INTEGER,<br>G_c INTEGER,<br>G_1b INTEGER,<br>G_2b INTEGER,<br>G_3b INTEGER,<br>G_ss INTEGER,<br>G_lf INTEGER,<br>G_cf INTEGER,<br>G_rf INTEGER,<br>G_of INTEGER,<br>G_dh INTEGER,<br>G_ph INTEGER,<br>G_pr INTEGER<br>)</td>\n",
       "    </tr>\n",
       "    <tr>\n",
       "        <td>table</td>\n",
       "        <td>AwardsManagers</td>\n",
       "        <td>AwardsManagers</td>\n",
       "        <td>4</td>\n",
       "        <td>CREATE TABLE AwardsManagers (<br>playerID TEXT,<br>awardID TEXT,<br>yearID INTEGER,<br>lgID TEXT,<br>tie TEXT,<br>notes TEXT<br>)</td>\n",
       "    </tr>\n",
       "    <tr>\n",
       "        <td>table</td>\n",
       "        <td>AwardsPlayers</td>\n",
       "        <td>AwardsPlayers</td>\n",
       "        <td>5</td>\n",
       "        <td>CREATE TABLE AwardsPlayers (<br>playerID TEXT,<br>awardID TEXT,<br>yearID INTEGER,<br>lgID TEXT,<br>tie TEXT,<br>notes TEXT<br>)</td>\n",
       "    </tr>\n",
       "    <tr>\n",
       "        <td>table</td>\n",
       "        <td>AwardsShareManagers</td>\n",
       "        <td>AwardsShareManagers</td>\n",
       "        <td>6</td>\n",
       "        <td>CREATE TABLE AwardsShareManagers (<br>awardID TEXT,<br>yearID INTEGER,<br>lgID TEXT,<br>playerID TEXT,<br>pointsWon INTEGER,<br>pointsMax INTEGER,<br>votesFirst INTEGER<br>)</td>\n",
       "    </tr>\n",
       "</table>"
      ],
      "text/plain": [
       "[('table', 'AllstarFull', 'AllstarFull', 2, 'CREATE TABLE AllstarFull (\\nplayerID TEXT,\\nyearID INTEGER,\\ngameNum INTEGER,\\ngameID TEXT,\\nteamID TEXT,\\nlgID TEXT,\\nGP INTEGER,\\nstartingPos INTEGER\\n)'),\n",
       " ('table', 'Appearances', 'Appearances', 3, 'CREATE TABLE Appearances (\\nyearID INTEGER,\\nteamID TEXT,\\nlgID TEXT,\\nplayerID TEXT,\\nG_all INTEGER,\\nGS INTEGER,\\nG_batting INTEGER,\\nG_defense INT ... (51 characters truncated) ... _2b INTEGER,\\nG_3b INTEGER,\\nG_ss INTEGER,\\nG_lf INTEGER,\\nG_cf INTEGER,\\nG_rf INTEGER,\\nG_of INTEGER,\\nG_dh INTEGER,\\nG_ph INTEGER,\\nG_pr INTEGER\\n)'),\n",
       " ('table', 'AwardsManagers', 'AwardsManagers', 4, 'CREATE TABLE AwardsManagers (\\nplayerID TEXT,\\nawardID TEXT,\\nyearID INTEGER,\\nlgID TEXT,\\ntie TEXT,\\nnotes TEXT\\n)'),\n",
       " ('table', 'AwardsPlayers', 'AwardsPlayers', 5, 'CREATE TABLE AwardsPlayers (\\nplayerID TEXT,\\nawardID TEXT,\\nyearID INTEGER,\\nlgID TEXT,\\ntie TEXT,\\nnotes TEXT\\n)'),\n",
       " ('table', 'AwardsShareManagers', 'AwardsShareManagers', 6, 'CREATE TABLE AwardsShareManagers (\\nawardID TEXT,\\nyearID INTEGER,\\nlgID TEXT,\\nplayerID TEXT,\\npointsWon INTEGER,\\npointsMax INTEGER,\\nvotesFirst INTEGER\\n)')]"
      ]
     },
     "execution_count": 9,
     "metadata": {},
     "output_type": "execute_result"
    }
   ],
   "source": [
    "%%sql \n",
    "/* take a peek at the full sqlite_master table */\n",
    "SELECT * \n",
    "FROM sqlite_master\n",
    "LIMIT 5;"
   ]
  },
  {
   "cell_type": "markdown",
   "metadata": {},
   "source": [
    "Most of the time we just want to list the table names, like below."
   ]
  },
  {
   "cell_type": "code",
   "execution_count": 10,
   "metadata": {},
   "outputs": [
    {
     "name": "stdout",
     "output_type": "stream",
     "text": [
      " * sqlite:///lahman2016.sqlite\n",
      "Done.\n"
     ]
    },
    {
     "data": {
      "text/html": [
       "<table>\n",
       "    <tr>\n",
       "        <th>name</th>\n",
       "    </tr>\n",
       "    <tr>\n",
       "        <td>AllstarFull</td>\n",
       "    </tr>\n",
       "    <tr>\n",
       "        <td>Appearances</td>\n",
       "    </tr>\n",
       "    <tr>\n",
       "        <td>AwardsManagers</td>\n",
       "    </tr>\n",
       "    <tr>\n",
       "        <td>AwardsPlayers</td>\n",
       "    </tr>\n",
       "    <tr>\n",
       "        <td>AwardsShareManagers</td>\n",
       "    </tr>\n",
       "</table>"
      ],
      "text/plain": [
       "[('AllstarFull',),\n",
       " ('Appearances',),\n",
       " ('AwardsManagers',),\n",
       " ('AwardsPlayers',),\n",
       " ('AwardsShareManagers',)]"
      ]
     },
     "execution_count": 10,
     "metadata": {},
     "output_type": "execute_result"
    }
   ],
   "source": [
    "%%sql\n",
    "SELECT name\n",
    "FROM sqlite_master\n",
    "WHERE type='table'\n",
    "LIMIT 5;"
   ]
  },
  {
   "cell_type": "markdown",
   "metadata": {},
   "source": [
    "Of course, if you want to see (candidate) primary keys then you can do that as well, though it takes a little finagling. Can you take this query apart to see how it works?"
   ]
  },
  {
   "cell_type": "code",
   "execution_count": 11,
   "metadata": {},
   "outputs": [
    {
     "name": "stdout",
     "output_type": "stream",
     "text": [
      " * sqlite:///lahman2016.sqlite\n",
      "Done.\n"
     ]
    },
    {
     "data": {
      "text/html": [
       "<table>\n",
       "    <tr>\n",
       "        <th>tbl_name</th>\n",
       "        <th>candidate_key</th>\n",
       "    </tr>\n",
       "    <tr>\n",
       "        <td>AllstarFull</td>\n",
       "        <td>(playerID, yearID, gameNum)</td>\n",
       "    </tr>\n",
       "    <tr>\n",
       "        <td>Appearances</td>\n",
       "        <td>(yearID, teamID, playerID)</td>\n",
       "    </tr>\n",
       "    <tr>\n",
       "        <td>AwardsManagers</td>\n",
       "        <td>(yearID, awardID, lgID, playerID)</td>\n",
       "    </tr>\n",
       "    <tr>\n",
       "        <td>AwardsPlayers</td>\n",
       "        <td>(yearID, awardID, lgID, playerID)</td>\n",
       "    </tr>\n",
       "    <tr>\n",
       "        <td>AwardsShareManagers</td>\n",
       "        <td>(awardID, yearID, lgID, playerID)</td>\n",
       "    </tr>\n",
       "</table>"
      ],
      "text/plain": [
       "[('AllstarFull', '(playerID, yearID, gameNum)'),\n",
       " ('Appearances', '(yearID, teamID, playerID)'),\n",
       " ('AwardsManagers', '(yearID, awardID, lgID, playerID)'),\n",
       " ('AwardsPlayers', '(yearID, awardID, lgID, playerID)'),\n",
       " ('AwardsShareManagers', '(awardID, yearID, lgID, playerID)')]"
      ]
     },
     "execution_count": 11,
     "metadata": {},
     "output_type": "execute_result"
    }
   ],
   "source": [
    "%%sql\n",
    "SELECT tbl_name, SUBSTR(sql, INSTR(sql,'(')) AS candidate_key\n",
    "FROM sqlite_master\n",
    "WHERE type='index' and sql like \"CREATE UNIQUE%\"\n",
    "LIMIT 5;"
   ]
  },
  {
   "cell_type": "markdown",
   "metadata": {},
   "source": [
    "Tip: Once we have table in mind, we can then also see the CREATE statement that tells us the field definitions."
   ]
  },
  {
   "cell_type": "code",
   "execution_count": 12,
   "metadata": {},
   "outputs": [
    {
     "name": "stdout",
     "output_type": "stream",
     "text": [
      " * sqlite:///lahman2016.sqlite\n",
      "Done.\n"
     ]
    },
    {
     "data": {
      "text/html": [
       "<table>\n",
       "    <tr>\n",
       "        <th>sql</th>\n",
       "    </tr>\n",
       "    <tr>\n",
       "        <td>CREATE TABLE Master (<br>playerID TEXT,<br>birthYear INTEGER,<br>birthMonth INTEGER,<br>birthDay INTEGER,<br>birthCountry TEXT,<br>birthState TEXT,<br>birthCity TEXT,<br>deathYear INTEGER,<br>deathMonth INTEGER,<br>deathDay INTEGER,<br>deathCountry TEXT,<br>deathState TEXT,<br>deathCity TEXT,<br>nameFirst TEXT,<br>nameLast TEXT,<br>nameGiven TEXT,<br>weight INTEGER,<br>height INTEGER,<br>bats TEXT,<br>throws TEXT,<br>debut TEXT,<br>finalGame TEXT,<br>retroID TEXT,<br>bbrefID TEXT<br>)</td>\n",
       "    </tr>\n",
       "</table>"
      ],
      "text/plain": [
       "[('CREATE TABLE Master (\\nplayerID TEXT,\\nbirthYear INTEGER,\\nbirthMonth INTEGER,\\nbirthDay INTEGER,\\nbirthCountry TEXT,\\nbirthState TEXT,\\nbirthCity TE ... (141 characters truncated) ... Last TEXT,\\nnameGiven TEXT,\\nweight INTEGER,\\nheight INTEGER,\\nbats TEXT,\\nthrows TEXT,\\ndebut TEXT,\\nfinalGame TEXT,\\nretroID TEXT,\\nbbrefID TEXT\\n)',)]"
      ]
     },
     "execution_count": 12,
     "metadata": {},
     "output_type": "execute_result"
    }
   ],
   "source": [
    "%%sql\n",
    "/* the Master table with basic profile data */\n",
    "SELECT sql \n",
    "FROM sqlite_master\n",
    "WHERE type='table' AND name='Master'\n",
    "LIMIT 5;"
   ]
  },
  {
   "cell_type": "code",
   "execution_count": 13,
   "metadata": {},
   "outputs": [
    {
     "name": "stdout",
     "output_type": "stream",
     "text": [
      " * sqlite:///lahman2016.sqlite\n",
      "Done.\n"
     ]
    },
    {
     "data": {
      "text/html": [
       "<table>\n",
       "    <tr>\n",
       "        <th>sql</th>\n",
       "    </tr>\n",
       "    <tr>\n",
       "        <td>CREATE TABLE HallOfFame (<br>playerID TEXT,<br>yearid INTEGER,<br>votedBy TEXT,<br>ballots INTEGER,<br>needed INTEGER,<br>votes INTEGER,<br>inducted TEXT,<br>category TEXT,<br>needed_note TEXT<br>)</td>\n",
       "    </tr>\n",
       "</table>"
      ],
      "text/plain": [
       "[('CREATE TABLE HallOfFame (\\nplayerID TEXT,\\nyearid INTEGER,\\nvotedBy TEXT,\\nballots INTEGER,\\nneeded INTEGER,\\nvotes INTEGER,\\ninducted TEXT,\\ncategory TEXT,\\nneeded_note TEXT\\n)',)]"
      ]
     },
     "execution_count": 13,
     "metadata": {},
     "output_type": "execute_result"
    }
   ],
   "source": [
    "%%sql\n",
    "SELECT sql \n",
    "FROM sqlite_master\n",
    "WHERE type='table' AND name='HallOfFame'\n",
    "LIMIT 5;"
   ]
  },
  {
   "cell_type": "markdown",
   "metadata": {},
   "source": [
    "## A couple easy queries\n",
    "Let's see if we can figure out how this database fits together by exploring a bit."
   ]
  },
  {
   "cell_type": "code",
   "execution_count": 14,
   "metadata": {},
   "outputs": [
    {
     "name": "stdout",
     "output_type": "stream",
     "text": [
      " * sqlite:///lahman2016.sqlite\n",
      "Done.\n"
     ]
    },
    {
     "data": {
      "text/html": [
       "<table>\n",
       "    <tr>\n",
       "        <th>nameFirst</th>\n",
       "        <th>nameLast</th>\n",
       "        <th>induction_year</th>\n",
       "    </tr>\n",
       "    <tr>\n",
       "        <td>Ty</td>\n",
       "        <td>Cobb</td>\n",
       "        <td>1936</td>\n",
       "    </tr>\n",
       "    <tr>\n",
       "        <td>Walter</td>\n",
       "        <td>Johnson</td>\n",
       "        <td>1936</td>\n",
       "    </tr>\n",
       "    <tr>\n",
       "        <td>Christy</td>\n",
       "        <td>Mathewson</td>\n",
       "        <td>1936</td>\n",
       "    </tr>\n",
       "    <tr>\n",
       "        <td>Babe</td>\n",
       "        <td>Ruth</td>\n",
       "        <td>1936</td>\n",
       "    </tr>\n",
       "    <tr>\n",
       "        <td>Honus</td>\n",
       "        <td>Wagner</td>\n",
       "        <td>1936</td>\n",
       "    </tr>\n",
       "</table>"
      ],
      "text/plain": [
       "[('Ty', 'Cobb', 1936),\n",
       " ('Walter', 'Johnson', 1936),\n",
       " ('Christy', 'Mathewson', 1936),\n",
       " ('Babe', 'Ruth', 1936),\n",
       " ('Honus', 'Wagner', 1936)]"
      ]
     },
     "execution_count": 14,
     "metadata": {},
     "output_type": "execute_result"
    }
   ],
   "source": [
    "%%sql \n",
    "/* Get a list of all Hall of Fame players */\n",
    "SELECT nameFirst, nameLast, yearid as induction_year\n",
    "FROM HallOfFame\n",
    "    JOIN Master USING (playerID)\n",
    "WHERE inducted='Y' and category='Player'\n",
    "ORDER BY yearid\n",
    "LIMIT 5;"
   ]
  },
  {
   "cell_type": "code",
   "execution_count": 15,
   "metadata": {},
   "outputs": [
    {
     "name": "stdout",
     "output_type": "stream",
     "text": [
      " * sqlite:///lahman2016.sqlite\n",
      "Done.\n"
     ]
    },
    {
     "data": {
      "text/html": [
       "<table>\n",
       "    <tr>\n",
       "        <th>nameFirst</th>\n",
       "        <th>nameLast</th>\n",
       "        <th>induction_year</th>\n",
       "        <th>allstar_appearances</th>\n",
       "    </tr>\n",
       "    <tr>\n",
       "        <td>Hank</td>\n",
       "        <td>Aaron</td>\n",
       "        <td>1982</td>\n",
       "        <td>25</td>\n",
       "    </tr>\n",
       "    <tr>\n",
       "        <td>Willie</td>\n",
       "        <td>Mays</td>\n",
       "        <td>1979</td>\n",
       "        <td>24</td>\n",
       "    </tr>\n",
       "    <tr>\n",
       "        <td>Stan</td>\n",
       "        <td>Musial</td>\n",
       "        <td>1969</td>\n",
       "        <td>24</td>\n",
       "    </tr>\n",
       "    <tr>\n",
       "        <td>Mickey</td>\n",
       "        <td>Mantle</td>\n",
       "        <td>1974</td>\n",
       "        <td>20</td>\n",
       "    </tr>\n",
       "    <tr>\n",
       "        <td>Cal</td>\n",
       "        <td>Ripken</td>\n",
       "        <td>2007</td>\n",
       "        <td>19</td>\n",
       "    </tr>\n",
       "</table>"
      ],
      "text/plain": [
       "[('Hank', 'Aaron', 1982, 25),\n",
       " ('Willie', 'Mays', 1979, 24),\n",
       " ('Stan', 'Musial', 1969, 24),\n",
       " ('Mickey', 'Mantle', 1974, 20),\n",
       " ('Cal', 'Ripken', 2007, 19)]"
      ]
     },
     "execution_count": 15,
     "metadata": {},
     "output_type": "execute_result"
    }
   ],
   "source": [
    "%%sql\n",
    "/* add in the number of all star games each HoF player played */\n",
    "SELECT nameFirst, nameLast, HallOfFame.yearid as induction_year,count(AllstarFull.yearID) AS allstar_appearances\n",
    "FROM HallOfFame\n",
    "    JOIN Master USING (playerID)\n",
    "    LEFT JOIN AllstarFull USING (playerID)\n",
    "WHERE inducted='Y' and category='Player'\n",
    "GROUP BY playerID, nameFirst, nameLast\n",
    "ORDER BY allstar_appearances DESC\n",
    "LIMIT 5;"
   ]
  },
  {
   "cell_type": "markdown",
   "metadata": {},
   "source": [
    "## (Optional) Python Integration Tips\n",
    "This section is for those of you using this database in your other classes. If you don't know or care about Python then please skip. However, if you subsequently take a Python class with databases, then perhaps you might like to come back then.   "
   ]
  },
  {
   "cell_type": "markdown",
   "metadata": {},
   "source": [
    "### You can embed SQL code directly into your Python code without SqlAlchemy"
   ]
  },
  {
   "cell_type": "code",
   "execution_count": 21,
   "metadata": {},
   "outputs": [
    {
     "name": "stdout",
     "output_type": "stream",
     "text": [
      " * sqlite:///lahman2016.sqlite\n",
      "Done.\n"
     ]
    },
    {
     "data": {
      "text/html": [
       "<table>\n",
       "    <tr>\n",
       "        <th>parkname</th>\n",
       "        <th>city</th>\n",
       "        <th>state</th>\n",
       "        <th>country</th>\n",
       "    </tr>\n",
       "    <tr>\n",
       "        <td>Candlestick Park</td>\n",
       "        <td>San Francisco</td>\n",
       "        <td>CA</td>\n",
       "        <td>US</td>\n",
       "    </tr>\n",
       "    <tr>\n",
       "        <td>AT&amp;T Park</td>\n",
       "        <td>San Francisco</td>\n",
       "        <td>CA</td>\n",
       "        <td>US</td>\n",
       "    </tr>\n",
       "    <tr>\n",
       "        <td>Estadio Hiram Bithorn</td>\n",
       "        <td>San Juan</td>\n",
       "        <td>None</td>\n",
       "        <td>PR</td>\n",
       "    </tr>\n",
       "    <tr>\n",
       "        <td>Hampden Park Race Track</td>\n",
       "        <td>Springfield</td>\n",
       "        <td>MA</td>\n",
       "        <td>US</td>\n",
       "    </tr>\n",
       "    <tr>\n",
       "        <td>Red Stockings Base Ball Park</td>\n",
       "        <td>St. Louis</td>\n",
       "        <td>MO</td>\n",
       "        <td>US</td>\n",
       "    </tr>\n",
       "</table>"
      ],
      "text/plain": [
       "[('Candlestick Park', 'San Francisco', 'CA', 'US'),\n",
       " ('AT&T Park', 'San Francisco', 'CA', 'US'),\n",
       " ('Estadio Hiram Bithorn', 'San Juan', None, 'PR'),\n",
       " ('Hampden Park Race Track', 'Springfield', 'MA', 'US'),\n",
       " ('Red Stockings Base Ball Park', 'St. Louis', 'MO', 'US')]"
      ]
     },
     "execution_count": 21,
     "metadata": {},
     "output_type": "execute_result"
    }
   ],
   "source": [
    "import pandas as pd\n",
    " \n",
    "parks = %sql SELECT parkname, city, state, country FROM Parks LIMIT 5;\n",
    "parks # parks is a resultset object that is mostly compatible with a dataframe"
   ]
  },
  {
   "cell_type": "markdown",
   "metadata": {},
   "source": [
    "### Converting to pandas DataFrames\n",
    "To make get a proper dataframe just use the `.DataFrame` method of the resultset"
   ]
  },
  {
   "cell_type": "code",
   "execution_count": 24,
   "metadata": {},
   "outputs": [
    {
     "data": {
      "text/html": [
       "<div>\n",
       "<style scoped>\n",
       "    .dataframe tbody tr th:only-of-type {\n",
       "        vertical-align: middle;\n",
       "    }\n",
       "\n",
       "    .dataframe tbody tr th {\n",
       "        vertical-align: top;\n",
       "    }\n",
       "\n",
       "    .dataframe thead th {\n",
       "        text-align: right;\n",
       "    }\n",
       "</style>\n",
       "<table border=\"1\" class=\"dataframe\">\n",
       "  <thead>\n",
       "    <tr style=\"text-align: right;\">\n",
       "      <th></th>\n",
       "      <th>parkname</th>\n",
       "      <th>city</th>\n",
       "      <th>state</th>\n",
       "      <th>country</th>\n",
       "    </tr>\n",
       "  </thead>\n",
       "  <tbody>\n",
       "    <tr>\n",
       "      <th>0</th>\n",
       "      <td>Candlestick Park</td>\n",
       "      <td>San Francisco</td>\n",
       "      <td>CA</td>\n",
       "      <td>US</td>\n",
       "    </tr>\n",
       "    <tr>\n",
       "      <th>1</th>\n",
       "      <td>AT&amp;T Park</td>\n",
       "      <td>San Francisco</td>\n",
       "      <td>CA</td>\n",
       "      <td>US</td>\n",
       "    </tr>\n",
       "    <tr>\n",
       "      <th>2</th>\n",
       "      <td>Estadio Hiram Bithorn</td>\n",
       "      <td>San Juan</td>\n",
       "      <td>None</td>\n",
       "      <td>PR</td>\n",
       "    </tr>\n",
       "    <tr>\n",
       "      <th>3</th>\n",
       "      <td>Hampden Park Race Track</td>\n",
       "      <td>Springfield</td>\n",
       "      <td>MA</td>\n",
       "      <td>US</td>\n",
       "    </tr>\n",
       "    <tr>\n",
       "      <th>4</th>\n",
       "      <td>Red Stockings Base Ball Park</td>\n",
       "      <td>St. Louis</td>\n",
       "      <td>MO</td>\n",
       "      <td>US</td>\n",
       "    </tr>\n",
       "  </tbody>\n",
       "</table>\n",
       "</div>"
      ],
      "text/plain": [
       "                       parkname           city state country\n",
       "0              Candlestick Park  San Francisco    CA      US\n",
       "1                     AT&T Park  San Francisco    CA      US\n",
       "2         Estadio Hiram Bithorn       San Juan  None      PR\n",
       "3       Hampden Park Race Track    Springfield    MA      US\n",
       "4  Red Stockings Base Ball Park      St. Louis    MO      US"
      ]
     },
     "execution_count": 24,
     "metadata": {},
     "output_type": "execute_result"
    }
   ],
   "source": [
    "parks_df = parks.DataFrame()\n",
    "parks_df"
   ]
  },
  {
   "cell_type": "markdown",
   "metadata": {},
   "source": [
    "### Using `%%sql` resultsets\n",
    "When using `%%sql` the entire cell is SQL code. So, how do we get the results into Python if we can't use Python code in the cell? It's simple, really, just use the `__` pseudo-variable. It always holds the results of the most recently run cell. As long as we take care to have our Python code in the cell immediately after the `%%sql` magic, we should be fine."
   ]
  },
  {
   "cell_type": "code",
   "execution_count": 25,
   "metadata": {},
   "outputs": [
    {
     "name": "stdout",
     "output_type": "stream",
     "text": [
      " * sqlite:///lahman2016.sqlite\n",
      "Done.\n"
     ]
    },
    {
     "data": {
      "text/html": [
       "<table>\n",
       "    <tr>\n",
       "        <th>parkname</th>\n",
       "        <th>city</th>\n",
       "        <th>state</th>\n",
       "        <th>country</th>\n",
       "    </tr>\n",
       "    <tr>\n",
       "        <td>Candlestick Park</td>\n",
       "        <td>San Francisco</td>\n",
       "        <td>CA</td>\n",
       "        <td>US</td>\n",
       "    </tr>\n",
       "    <tr>\n",
       "        <td>AT&amp;T Park</td>\n",
       "        <td>San Francisco</td>\n",
       "        <td>CA</td>\n",
       "        <td>US</td>\n",
       "    </tr>\n",
       "    <tr>\n",
       "        <td>Estadio Hiram Bithorn</td>\n",
       "        <td>San Juan</td>\n",
       "        <td>None</td>\n",
       "        <td>PR</td>\n",
       "    </tr>\n",
       "    <tr>\n",
       "        <td>Hampden Park Race Track</td>\n",
       "        <td>Springfield</td>\n",
       "        <td>MA</td>\n",
       "        <td>US</td>\n",
       "    </tr>\n",
       "    <tr>\n",
       "        <td>Red Stockings Base Ball Park</td>\n",
       "        <td>St. Louis</td>\n",
       "        <td>MO</td>\n",
       "        <td>US</td>\n",
       "    </tr>\n",
       "    <tr>\n",
       "        <td>Grand Avenue Park</td>\n",
       "        <td>St. Louis</td>\n",
       "        <td>MO</td>\n",
       "        <td>US</td>\n",
       "    </tr>\n",
       "    <tr>\n",
       "        <td>Sportsman&#x27;s Park I</td>\n",
       "        <td>St. Louis</td>\n",
       "        <td>MO</td>\n",
       "        <td>US</td>\n",
       "    </tr>\n",
       "    <tr>\n",
       "        <td>Union Grounds</td>\n",
       "        <td>St. Louis</td>\n",
       "        <td>MO</td>\n",
       "        <td>US</td>\n",
       "    </tr>\n",
       "    <tr>\n",
       "        <td>Robison Field</td>\n",
       "        <td>St. Louis</td>\n",
       "        <td>MO</td>\n",
       "        <td>US</td>\n",
       "    </tr>\n",
       "    <tr>\n",
       "        <td>Sportsman&#x27;s Park II</td>\n",
       "        <td>St. Louis</td>\n",
       "        <td>MO</td>\n",
       "        <td>US</td>\n",
       "    </tr>\n",
       "</table>"
      ],
      "text/plain": [
       "[('Candlestick Park', 'San Francisco', 'CA', 'US'),\n",
       " ('AT&T Park', 'San Francisco', 'CA', 'US'),\n",
       " ('Estadio Hiram Bithorn', 'San Juan', None, 'PR'),\n",
       " ('Hampden Park Race Track', 'Springfield', 'MA', 'US'),\n",
       " ('Red Stockings Base Ball Park', 'St. Louis', 'MO', 'US'),\n",
       " ('Grand Avenue Park', 'St. Louis', 'MO', 'US'),\n",
       " (\"Sportsman's Park I\", 'St. Louis', 'MO', 'US'),\n",
       " ('Union Grounds', 'St. Louis', 'MO', 'US'),\n",
       " ('Robison Field', 'St. Louis', 'MO', 'US'),\n",
       " (\"Sportsman's Park II\", 'St. Louis', 'MO', 'US')]"
      ]
     },
     "execution_count": 25,
     "metadata": {},
     "output_type": "execute_result"
    }
   ],
   "source": [
    "%%sql\n",
    "SELECT parkname, city, state, country\n",
    "FROM Parks \n",
    "LIMIT 10"
   ]
  },
  {
   "cell_type": "code",
   "execution_count": 13,
   "metadata": {},
   "outputs": [
    {
     "data": {
      "text/html": [
       "<div>\n",
       "<style scoped>\n",
       "    .dataframe tbody tr th:only-of-type {\n",
       "        vertical-align: middle;\n",
       "    }\n",
       "\n",
       "    .dataframe tbody tr th {\n",
       "        vertical-align: top;\n",
       "    }\n",
       "\n",
       "    .dataframe thead th {\n",
       "        text-align: right;\n",
       "    }\n",
       "</style>\n",
       "<table border=\"1\" class=\"dataframe\">\n",
       "  <thead>\n",
       "    <tr style=\"text-align: right;\">\n",
       "      <th></th>\n",
       "      <th>parkname</th>\n",
       "      <th>city</th>\n",
       "      <th>state</th>\n",
       "      <th>country</th>\n",
       "    </tr>\n",
       "  </thead>\n",
       "  <tbody>\n",
       "    <tr>\n",
       "      <th>0</th>\n",
       "      <td>Candlestick Park</td>\n",
       "      <td>San Francisco</td>\n",
       "      <td>CA</td>\n",
       "      <td>US</td>\n",
       "    </tr>\n",
       "    <tr>\n",
       "      <th>1</th>\n",
       "      <td>AT&amp;T Park</td>\n",
       "      <td>San Francisco</td>\n",
       "      <td>CA</td>\n",
       "      <td>US</td>\n",
       "    </tr>\n",
       "    <tr>\n",
       "      <th>2</th>\n",
       "      <td>Estadio Hiram Bithorn</td>\n",
       "      <td>San Juan</td>\n",
       "      <td>None</td>\n",
       "      <td>PR</td>\n",
       "    </tr>\n",
       "    <tr>\n",
       "      <th>3</th>\n",
       "      <td>Hampden Park Race Track</td>\n",
       "      <td>Springfield</td>\n",
       "      <td>MA</td>\n",
       "      <td>US</td>\n",
       "    </tr>\n",
       "    <tr>\n",
       "      <th>4</th>\n",
       "      <td>Red Stockings Base Ball Park</td>\n",
       "      <td>St. Louis</td>\n",
       "      <td>MO</td>\n",
       "      <td>US</td>\n",
       "    </tr>\n",
       "    <tr>\n",
       "      <th>5</th>\n",
       "      <td>Grand Avenue Park</td>\n",
       "      <td>St. Louis</td>\n",
       "      <td>MO</td>\n",
       "      <td>US</td>\n",
       "    </tr>\n",
       "    <tr>\n",
       "      <th>6</th>\n",
       "      <td>Sportsman's Park I</td>\n",
       "      <td>St. Louis</td>\n",
       "      <td>MO</td>\n",
       "      <td>US</td>\n",
       "    </tr>\n",
       "    <tr>\n",
       "      <th>7</th>\n",
       "      <td>Union Grounds</td>\n",
       "      <td>St. Louis</td>\n",
       "      <td>MO</td>\n",
       "      <td>US</td>\n",
       "    </tr>\n",
       "    <tr>\n",
       "      <th>8</th>\n",
       "      <td>Robison Field</td>\n",
       "      <td>St. Louis</td>\n",
       "      <td>MO</td>\n",
       "      <td>US</td>\n",
       "    </tr>\n",
       "    <tr>\n",
       "      <th>9</th>\n",
       "      <td>Sportsman's Park II</td>\n",
       "      <td>St. Louis</td>\n",
       "      <td>MO</td>\n",
       "      <td>US</td>\n",
       "    </tr>\n",
       "  </tbody>\n",
       "</table>\n",
       "</div>"
      ],
      "text/plain": [
       "                       parkname           city state country\n",
       "0              Candlestick Park  San Francisco    CA      US\n",
       "1                     AT&T Park  San Francisco    CA      US\n",
       "2         Estadio Hiram Bithorn       San Juan  None      PR\n",
       "3       Hampden Park Race Track    Springfield    MA      US\n",
       "4  Red Stockings Base Ball Park      St. Louis    MO      US\n",
       "5             Grand Avenue Park      St. Louis    MO      US\n",
       "6            Sportsman's Park I      St. Louis    MO      US\n",
       "7                 Union Grounds      St. Louis    MO      US\n",
       "8                 Robison Field      St. Louis    MO      US\n",
       "9           Sportsman's Park II      St. Louis    MO      US"
      ]
     },
     "execution_count": 13,
     "metadata": {},
     "output_type": "execute_result"
    }
   ],
   "source": [
    "parks_df = _.DataFrame()\n",
    "parks_df"
   ]
  },
  {
   "cell_type": "markdown",
   "metadata": {},
   "source": [
    "### Using multiple databases\n",
    "Sometimes you will want to *port* data from one database to another. In this case, you will need to connect to both database at the same time. \n",
    "\n",
    "The trick is to specify the database connection string for each %sql call. \n",
    "```python\n",
    "%sql <connection-for-db1>\n",
    "result_db1 = %sql SELECT * FROM ...\n",
    "%sql <connection-for_db2>\n",
    "%sql INSERT ... \n",
    "```\n"
   ]
  }
 ],
 "metadata": {
  "kernelspec": {
   "display_name": "Python 3",
   "language": "python",
   "name": "python3"
  },
  "language_info": {
   "codemirror_mode": {
    "name": "ipython",
    "version": 3
   },
   "file_extension": ".py",
   "mimetype": "text/x-python",
   "name": "python",
   "nbconvert_exporter": "python",
   "pygments_lexer": "ipython3",
   "version": "3.6.5"
  }
 },
 "nbformat": 4,
 "nbformat_minor": 2
}
